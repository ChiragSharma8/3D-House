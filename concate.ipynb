{
 "cells": [
  {
   "cell_type": "code",
   "execution_count": null,
   "metadata": {},
   "outputs": [],
   "source": [
    "align = {\"left\": (1,0,1),\"bottom\": (0,1,0),\"right\": (0,1,1),\"top\": (1,0,0)}\n",
    "def concat_tifs(tifs:(), key:str) -> rio.io.DatasetReader:\n",
    "    meta = tifs[0].meta\n",
    "    meta[\"width\"] *= 2 if key is \"left\" or key is \"right\" else 1\n",
    "    meta[\"height\"] *= 2 if key is \"bottom\" or key is \"top\" else 1\n",
    "    meta[\"transform\"] = from_bounds(\n",
    "        tifs[align[key][0]].bounds.left,\n",
    "        tifs[align[key][1]].bounds.bottom,\n",
    "        tifs[align[key][1]].bounds.right,\n",
    "        tifs[align[key][0]].bounds.top,\n",
    "        meta[\"width\"], meta[\"height\"])\n",
    "    arr = np.concatenate((\n",
    "        np.array(tifs[align[key][0]].read(1)),\n",
    "        np.array(tifs[align[key][1]].read(1))),\n",
    "        axis=align[key][2])\n",
    "    with rio.open(\"./temp.tif\", \"w\", **meta) as temp:\n",
    "        temp.write(arr, indexes=1)\n",
    "    return rio.open(\"./temp.tif\")"
   ]
  },
  {
   "cell_type": "code",
   "execution_count": null,
   "metadata": {},
   "outputs": [],
   "source": [
    "def concat_tifs(tifs):\n",
    "    meta = tifs[0].meta\n",
    "    meta[\"\"]"
   ]
  },
  {
   "cell_type": "code",
   "execution_count": null,
   "metadata": {},
   "outputs": [],
   "source": []
  },
  {
   "cell_type": "code",
   "execution_count": null,
   "metadata": {},
   "outputs": [],
   "source": []
  },
  {
   "cell_type": "code",
   "execution_count": null,
   "metadata": {},
   "outputs": [],
   "source": []
  },
  {
   "cell_type": "code",
   "execution_count": null,
   "metadata": {},
   "outputs": [],
   "source": []
  },
  {
   "cell_type": "code",
   "execution_count": null,
   "metadata": {},
   "outputs": [],
   "source": []
  },
  {
   "cell_type": "code",
   "execution_count": null,
   "metadata": {},
   "outputs": [],
   "source": []
  },
  {
   "cell_type": "code",
   "execution_count": null,
   "metadata": {},
   "outputs": [],
   "source": []
  },
  {
   "cell_type": "code",
   "execution_count": null,
   "metadata": {},
   "outputs": [],
   "source": []
  }
 ],
 "metadata": {
  "kernelspec": {
   "display_name": "Python 3",
   "language": "python",
   "name": "python3"
  },
  "language_info": {
   "codemirror_mode": {
    "name": "ipython",
    "version": 3
   },
   "file_extension": ".py",
   "mimetype": "text/x-python",
   "name": "python",
   "nbconvert_exporter": "python",
   "pygments_lexer": "ipython3",
   "version": "3.7.6"
  }
 },
 "nbformat": 4,
 "nbformat_minor": 4
}
