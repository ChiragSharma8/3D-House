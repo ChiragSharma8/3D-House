{
 "cells": [
  {
   "cell_type": "code",
   "execution_count": null,
   "metadata": {},
   "outputs": [],
   "source": [
    "'''For split big tiff file into 1000x1000 tiles'''"
   ]
  },
  {
   "cell_type": "code",
   "execution_count": null,
   "metadata": {},
   "outputs": [],
   "source": [
    "import numpy as np\n",
    "import rasterio as rio\n",
    "from rasterio.plot import show\n",
    "from rasterio.transform import from_bounds\n",
    "import os\n",
    "import re"
   ]
  },
  {
   "cell_type": "code",
   "execution_count": null,
   "metadata": {},
   "outputs": [],
   "source": [
    "tiff_path = \"/home/becode/lidar/K_15/DSM/GeoTIFF/DHMVIIDSMRAS1m_k15.tif\"  # For DSM\n",
    "#tiff_path = \"/home/becode/lidar/K_15/DSM/GeoTIFF/DHMVIIDTMRAS1m_k15.tif\"  # For DTM\n",
    "\n",
    "tiff = rio.open(tiff_path)\n",
    "\n",
    "tiff_arr = np.array(tiff.read(1))\n",
    "\n",
    "tiff_meta = tiff.meta\n",
    "\n",
    "tiff_bounds = tiff.bounds\n",
    "tiff.bounds"
   ]
  },
  {
   "cell_type": "code",
   "execution_count": null,
   "metadata": {},
   "outputs": [],
   "source": [
    "width = tiff.width   # width in pixels\n",
    "height = tiff.height # height in pixels"
   ]
  },
  {
   "cell_type": "code",
   "execution_count": null,
   "metadata": {},
   "outputs": [],
   "source": [
    "crop_width = tiff_meta[\"width\"] = 1000\n",
    "crop_height = tiff_meta[\"height\"] = 1000"
   ]
  },
  {
   "cell_type": "code",
   "execution_count": null,
   "metadata": {},
   "outputs": [],
   "source": [
    "for tiff in tiff_list[:]:\n",
    "    \n",
    "    tiff_arr = np.array(tiff.read(1))\n",
    "\n",
    "    tiff_meta = tiff.meta\n",
    "    K = re.findall(r\"[0-9]+\", tiff_path)[0]\n",
    "    tiff_bounds = tiff.bounds\n",
    "    \n",
    "    for y in range (0, height,1000):\n",
    "        for x in range (0, width ,1000):\n",
    "            file_name = tiff_path + f\"k{K}{(x/1000)}{(y/1000)}.tif\"\n",
    "            slicex = slice(x, x + 1000)\n",
    "            slicey = slice(y, y + 1000)\n",
    "            crop_width = tiff_meta[\"width\"] = 1000\n",
    "            crop_height = tiff_meta[\"height\"] = 1000\n",
    "            crop = tiff_arr[slicey , slicex]\n",
    "            tiff_meta[\"transform\"] = from_bounds(\n",
    "                tiff_bounds.left + x,                 # new left-most coord\n",
    "                tiff_bounds.top - y,                  # new bottom-most coord\n",
    "                tiff_bounds.left + x+ crop_width,     # new right-most coord\n",
    "                tiff_bounds.top  -y + crop_height,    # new top-most coord\n",
    "                crop_width, crop_height) \n",
    "            with rio.open(file_name, \"w\", **tiff_meta) as destination:\n",
    "            # write the pixel data with the **meta data\n",
    "                    destination.write(crop, indexes=1)"
   ]
  },
  {
   "cell_type": "code",
   "execution_count": null,
   "metadata": {},
   "outputs": [],
   "source": []
  },
  {
   "cell_type": "code",
   "execution_count": null,
   "metadata": {},
   "outputs": [],
   "source": []
  },
  {
   "cell_type": "code",
   "execution_count": null,
   "metadata": {},
   "outputs": [],
   "source": []
  },
  {
   "cell_type": "code",
   "execution_count": null,
   "metadata": {},
   "outputs": [],
   "source": []
  },
  {
   "cell_type": "code",
   "execution_count": null,
   "metadata": {},
   "outputs": [],
   "source": []
  },
  {
   "cell_type": "code",
   "execution_count": null,
   "metadata": {},
   "outputs": [],
   "source": []
  }
 ],
 "metadata": {
  "kernelspec": {
   "display_name": "Python 3",
   "language": "python",
   "name": "python3"
  },
  "language_info": {
   "codemirror_mode": {
    "name": "ipython",
    "version": 3
   },
   "file_extension": ".py",
   "mimetype": "text/x-python",
   "name": "python",
   "nbconvert_exporter": "python",
   "pygments_lexer": "ipython3",
   "version": "3.7.6"
  }
 },
 "nbformat": 4,
 "nbformat_minor": 4
}
