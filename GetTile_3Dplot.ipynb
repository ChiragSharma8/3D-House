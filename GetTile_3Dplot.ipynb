{
 "cells": [
  {
   "cell_type": "code",
   "execution_count": null,
   "metadata": {},
   "outputs": [],
   "source": []
  },
  {
   "cell_type": "code",
   "execution_count": null,
   "metadata": {},
   "outputs": [],
   "source": [
    "'''function for getting the required tile '''\n",
    "\n",
    "def get_tile(tile_number, dsm_or_dtm):\n",
    "    try:\n",
    "        #Path to the tile file\n",
    "        path = \"/home/becode/lidar/K_15/\" + str(dsm_or_dtm).upper() +\"/GeoTIFF/\" + str(tile_number)+ \".tif\"\n",
    "        tiff = rio.open(path)\n",
    "        return tiff\n",
    "    except:\n",
    "        print('Check the path to the file containing the tiles.')"
   ]
  },
  {
   "cell_type": "code",
   "execution_count": null,
   "metadata": {},
   "outputs": [],
   "source": [
    "data_dsm = get_tile(tile_number,'dsm')\n",
    "data_dtm = get_tile(tile_number,'dtm')\n"
   ]
  },
  {
   "cell_type": "code",
   "execution_count": null,
   "metadata": {},
   "outputs": [],
   "source": [
    "'''Masking DSM and DTM file with polygon'''\n",
    "\n",
    "crop_dsm, crop_transform = mask(dataset=data_dsm, shapes=poly, crop=True, nodata=0, filled=True, indexes=1)\n",
    "crop_dtm, crop_transform = mask(dataset=data_dtm, shapes=poly, crop=True, nodata=0, filled=True, indexes=1)\n",
    "\n",
    "crop_chm = crop_dsm - crop_dtm  # for CHM\n",
    "\n"
   ]
  },
  {
   "cell_type": "code",
   "execution_count": null,
   "metadata": {},
   "outputs": [],
   "source": [
    "'''For plotting 3D'''\n",
    "\n",
    "fig = go.Figure(data=go.Surface(z=crop_chm, colorscale='YlOrRd'))\n",
    "\n",
    "fig.update_layout(title='3D Plot', autosize=True)\n",
    "\n",
    "fig.show()"
   ]
  },
  {
   "cell_type": "code",
   "execution_count": null,
   "metadata": {},
   "outputs": [],
   "source": []
  }
 ],
 "metadata": {
  "kernelspec": {
   "display_name": "Python 3",
   "language": "python",
   "name": "python3"
  },
  "language_info": {
   "codemirror_mode": {
    "name": "ipython",
    "version": 3
   },
   "file_extension": ".py",
   "mimetype": "text/x-python",
   "name": "python",
   "nbconvert_exporter": "python",
   "pygments_lexer": "ipython3",
   "version": "3.7.6"
  }
 },
 "nbformat": 4,
 "nbformat_minor": 4
}
