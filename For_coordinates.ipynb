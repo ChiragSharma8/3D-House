{
 "cells": [
  {
   "cell_type": "markdown",
   "metadata": {},
   "source": [
    "### Get the lambert coordinates from address"
   ]
  },
  {
   "cell_type": "code",
   "execution_count": 1,
   "metadata": {},
   "outputs": [],
   "source": [
    "#Sint-Pietersvliet 7, 2000 Antwerpen"
   ]
  },
  {
   "cell_type": "code",
   "execution_count": 2,
   "metadata": {},
   "outputs": [],
   "source": [
    "import requests\n",
    "import json"
   ]
  },
  {
   "cell_type": "code",
   "execution_count": 3,
   "metadata": {},
   "outputs": [],
   "source": [
    "def for_coordinates(address):\n",
    "    try:\n",
    "        req = requests.get(f\"http://loc.geopunt.be/geolocation/location?q={address}&c=1\",)\n",
    "        x = req.json()[\"LocationResult\"][0][\"Location\"][\"X_Lambert72\"]\n",
    "        y = req.json()[\"LocationResult\"][0][\"Location\"][\"Y_Lambert72\"]\n",
    "        return x, y\n",
    "    \n",
    "    except:\n",
    "        print('Enter correct address')"
   ]
  },
  {
   "cell_type": "code",
   "execution_count": 4,
   "metadata": {},
   "outputs": [
    {
     "name": "stdout",
     "output_type": "stream",
     "text": [
      "Enter the address sint-Pietersvliet 7, 2000 Antwerpen\n",
      "x : 152242.43 \n",
      "y : 212849.5\n"
     ]
    }
   ],
   "source": [
    "address = input(\"Enter the address \")\n",
    "\n",
    "x , y = for_coordinates(address)\n",
    "\n",
    "print ('x :', x ,'\\ny :' , y )"
   ]
  },
  {
   "cell_type": "code",
   "execution_count": null,
   "metadata": {},
   "outputs": [],
   "source": []
  }
 ],
 "metadata": {
  "kernelspec": {
   "display_name": "Python 3",
   "language": "python",
   "name": "python3"
  },
  "language_info": {
   "codemirror_mode": {
    "name": "ipython",
    "version": 3
   },
   "file_extension": ".py",
   "mimetype": "text/x-python",
   "name": "python",
   "nbconvert_exporter": "python",
   "pygments_lexer": "ipython3",
   "version": "3.7.6"
  }
 },
 "nbformat": 4,
 "nbformat_minor": 4
}
