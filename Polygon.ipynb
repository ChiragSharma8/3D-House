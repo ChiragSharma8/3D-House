{
 "cells": [
  {
   "cell_type": "code",
   "execution_count": null,
   "metadata": {},
   "outputs": [],
   "source": [
    "import re\n",
    "import requests\n",
    "import jason"
   ]
  },
  {
   "cell_type": "code",
   "execution_count": null,
   "metadata": {},
   "outputs": [],
   "source": [
    "''' For getting the lambert co-ordinates from given address from geopunt API within the Flanders'''\n",
    "\n",
    "def polygon(address):\n",
    "    \n",
    "        address_regx = re.compile(\"^([A-z-]+)\\s(\\d+),\\s(\\d+)\\s([A-z]+)\") \n",
    "        result = address_regx.search(address)\n",
    "        street = result.group(1)\n",
    "        nb = result.group(2)\n",
    "        pc = result.group(3)\n",
    "        city = result.group(4)\n",
    "\n",
    "        req = requests.get(f\"https://api.basisregisters.dev-vlaanderen.be/v1/adresmatch?gemeentenaam={city}&straatnaam={street}&huisnummer={nb}&postcode={pc}\").json()\n",
    "\n",
    "        objectId = req[\"adresMatches\"][0][\"adresseerbareObjecten\"][0][\"objectId\"]\n",
    "\n",
    "        req = requests.get(f\"https://api.basisregisters.dev-vlaanderen.be/v1/gebouweenheden/{objectId}\").json()\n",
    "\n",
    "        objectId = req[\"gebouw\"][\"objectId\"]\n",
    "\n",
    "        req = requests.get(f\"https://api.basisregisters.dev-vlaanderen.be/v1/gebouwen/{objectId}\").json()\n",
    "\n",
    "        polygon = [req[\"geometriePolygoon\"][\"polygon\"]]\n",
    "\n",
    "        return polygon\n"
   ]
  }
 ],
 "metadata": {
  "kernelspec": {
   "display_name": "Python 3",
   "language": "python",
   "name": "python3"
  },
  "language_info": {
   "codemirror_mode": {
    "name": "ipython",
    "version": 3
   },
   "file_extension": ".py",
   "mimetype": "text/x-python",
   "name": "python",
   "nbconvert_exporter": "python",
   "pygments_lexer": "ipython3",
   "version": "3.7.6"
  }
 },
 "nbformat": 4,
 "nbformat_minor": 4
}
