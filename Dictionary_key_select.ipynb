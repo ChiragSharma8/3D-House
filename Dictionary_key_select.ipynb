{
 "cells": [
  {
   "cell_type": "code",
   "execution_count": null,
   "metadata": {},
   "outputs": [],
   "source": [
    "'''Making dictionary of bounds of all sliced Tiles and then finding the correct Tile name/number for coordinates'''"
   ]
  },
  {
   "cell_type": "code",
   "execution_count": null,
   "metadata": {},
   "outputs": [],
   "source": [
    "import rasterio as rio\n",
    "\n",
    "bounds_test = {} #empty dictionary\n",
    " \n",
    "# dictionary for DTM tiff\n",
    "for i in range (1, 641):  \n",
    "    path = \"/home/becode/lidar/K_15/DTM/GeoTIFF/\" + str(i) + \".tif\"\n",
    "    dtm = rio.open(path) \n",
    "    bounds_test[i] = dtm.bounds\n",
    "print(bounds_test)\n",
    "\n",
    "\n",
    "# for finding the coorect Tile for coordinates(x,y)\n",
    "for keys,values in bounds_test.items():\n",
    "    left = values[0]\n",
    "    bottom = values[1]\n",
    "    right = values[2]\n",
    "    top = values[3]\n",
    "    \n",
    "    \n",
    "    if (left < x < right) and (bottom < y < top):\n",
    "        print (keys)\n"
   ]
  }
 ],
 "metadata": {
  "kernelspec": {
   "display_name": "Python 3",
   "language": "python",
   "name": "python3"
  },
  "language_info": {
   "codemirror_mode": {
    "name": "ipython",
    "version": 3
   },
   "file_extension": ".py",
   "mimetype": "text/x-python",
   "name": "python",
   "nbconvert_exporter": "python",
   "pygments_lexer": "ipython3",
   "version": "3.7.6"
  }
 },
 "nbformat": 4,
 "nbformat_minor": 4
}
