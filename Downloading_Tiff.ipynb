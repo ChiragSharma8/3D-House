{
 "cells": [
  {
   "cell_type": "markdown",
   "metadata": {},
   "source": [
    "# Save the TIFF image in local drive both DSM and DTM"
   ]
  },
  {
   "cell_type": "code",
   "execution_count": null,
   "metadata": {},
   "outputs": [],
   "source": [
    "import os\n",
    "import zipfile\n",
    "import shutil\n",
    "import urllib.request"
   ]
  },
  {
   "cell_type": "code",
   "execution_count": null,
   "metadata": {},
   "outputs": [],
   "source": [
    "work_dir = os.path.join(os.path.expanduser(\"~\"), 'lidar')\n",
    "if not os.path.exists(work_dir):\n",
    "    os.mkdir(work_dir)\n",
    "# os.chdir(work_dir)\n",
    "print(\"Working directory: {}\".format(work_dir))"
   ]
  },
  {
   "cell_type": "code",
   "execution_count": null,
   "metadata": {},
   "outputs": [],
   "source": [
    "# DTM\n",
    "url = \"https://downloadagiv.blob.core.windows.net/dhm-vlaanderen-ii-dtm-raster-1m/DHMVIIDTMRAS1m_k15.zip\"\n",
    "\n",
    "# for DSM\n",
    "\n",
    "url = \"https://downloadagiv.blob.core.windows.net/dhm-vlaanderen-ii-dsm-raster-1m/DHMVIIDSMRAS1m_k15.zip\""
   ]
  },
  {
   "cell_type": "code",
   "execution_count": null,
   "metadata": {},
   "outputs": [],
   "source": [
    "# download the file \n",
    "zip_name = os.path.basename(url)\n",
    "zip_path = os.path.join(work_dir, zip_name)   \n",
    "\n",
    "print('Downloading {} ...'.format(zip_name))\n",
    "urllib.request.urlretrieve(url, zip_path)   \n",
    "print('Downloading done.'.format(zip_name))\n",
    "\n",
    "# if it is a zip file\n",
    "if '.zip' in zip_name:       \n",
    "    print(\"Unzipping {} ...\".format(zip_name))\n",
    "    with zipfile.ZipFile(zip_path , \"r\") as zip_ref:\n",
    "        zip_ref.extractall(work_dir)\n",
    "    print('Unzipping done.')\n",
    "print('Data directory: {}'.format(os.path.splitext(zip_path)[0]))"
   ]
  },
  {
   "cell_type": "code",
   "execution_count": null,
   "metadata": {},
   "outputs": [],
   "source": []
  }
 ],
 "metadata": {
  "kernelspec": {
   "display_name": "Python 3",
   "language": "python",
   "name": "python3"
  },
  "language_info": {
   "codemirror_mode": {
    "name": "ipython",
    "version": 3
   },
   "file_extension": ".py",
   "mimetype": "text/x-python",
   "name": "python",
   "nbconvert_exporter": "python",
   "pygments_lexer": "ipython3",
   "version": "3.7.6"
  }
 },
 "nbformat": 4,
 "nbformat_minor": 4
}
